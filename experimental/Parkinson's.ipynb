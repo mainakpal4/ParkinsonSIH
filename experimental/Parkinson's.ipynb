{
  "nbformat": 4,
  "nbformat_minor": 0,
  "metadata": {
    "colab": {
      "provenance": []
    },
    "kernelspec": {
      "name": "python3",
      "display_name": "Python 3"
    },
    "language_info": {
      "name": "python"
    }
  },
  "cells": [
    {
      "cell_type": "code",
      "source": [
        "import numpy as np\n",
        "import pandas as pd\n",
        "from sklearn.model_selection import train_test_split\n",
        "from sklearn.linear_model import LogisticRegression\n",
        "from sklearn.metrics import accuracy_score, classification_report\n",
        "\n",
        "# Sample data (You should replace this with actual data)\n",
        "# Columns: tremor, slowness, rigidity, loss_of_smell, family_history, num_ancestors, male_ancestor, target\n",
        "data = {\n",
        "    \"tremor\": [1, 0, 1, 1, 0, 0, 1],\n",
        "    \"slowness\": [1, 1, 1, 0, 0, 0, 1],\n",
        "    \"rigidity\": [1, 0, 1, 1, 0, 1, 1],\n",
        "    \"loss_of_smell\": [1, 0, 0, 0, 1, 0, 1],\n",
        "    \"family_history\": [1, 1, 1, 0, 0, 0, 1],\n",
        "    \"num_ancestors\": [2, 1, 3, 0, 0, 0, 2],\n",
        "    \"male_ancestor\": [1, 1, 0, 0, 0, 0, 1],\n",
        "    \"pollutants-exposure\":[1,1,1,0,0,1,1],\n",
        "    \"past_severe_head_injury\":[1,1,0,1,0,1,0],\n",
        "    \"target\": [1, 0, 1, 0, 0, 0, 1],  # 1: Parkinson's, 0: No Parkinson's\n",
        "}\n",
        "\n",
        "# Create a DataFrame\n",
        "df = pd.DataFrame(data)\n",
        "\n",
        "# Separate features and target\n",
        "X = df[[\"tremor\", \"slowness\", \"rigidity\", \"loss_of_smell\", \"family_history\", \"num_ancestors\", \"male_ancestor\",\"pollutants-exposure\",\"past_severe_head_injury\"]]\n",
        "y = df[\"target\"]\n",
        "\n",
        "# Split the data into training and testing sets\n",
        "X_train, X_test, y_train, y_test = train_test_split(X, y, test_size=0.3, random_state=42)\n",
        "\n",
        "# Initialize and train the logistic regression model\n",
        "model = LogisticRegression()\n",
        "model.fit(X_train, y_train)\n",
        "\n",
        "# Make predictions\n",
        "y_pred = model.predict(X_test)\n",
        "\n",
        "# Evaluate the model\n",
        "accuracy = accuracy_score(y_test, y_pred)\n",
        "print(f\"Accuracy: {accuracy:.2f}\")\n",
        "print(\"\\nClassification Report:\")\n",
        "print(classification_report(y_test, y_pred))\n",
        "\n",
        "# Example prediction\n",
        "# Original: sample_input = np.array([[1, 1, 1, 0, 1, 2, 1]])  # Replace with actual input\n",
        "sample_input = np.array([[1, 1, 1, 0, 1, 2, 1, 1, 1]])  # Added the missing 2 features, assuming values of 1 and 1\n",
        "prediction = model.predict(sample_input)\n",
        "print(\"\\nPrediction for sample input:\", \"Parkinson's\" if prediction[0] == 1 else \"No Parkinson's\")"
      ],
      "metadata": {
        "colab": {
          "base_uri": "https://localhost:8080/"
        },
        "id": "AbIeSphdNx4H",
        "outputId": "f7fcd0e2-deb2-4f10-b201-4aeec2864af7"
      },
      "execution_count": 1,
      "outputs": [
        {
          "output_type": "stream",
          "name": "stdout",
          "text": [
            "Accuracy: 0.67\n",
            "\n",
            "Classification Report:\n",
            "              precision    recall  f1-score   support\n",
            "\n",
            "           0       1.00      0.50      0.67         2\n",
            "           1       0.50      1.00      0.67         1\n",
            "\n",
            "    accuracy                           0.67         3\n",
            "   macro avg       0.75      0.75      0.67         3\n",
            "weighted avg       0.83      0.67      0.67         3\n",
            "\n",
            "\n",
            "Prediction for sample input: Parkinson's\n"
          ]
        },
        {
          "output_type": "stream",
          "name": "stderr",
          "text": [
            "/usr/local/lib/python3.10/dist-packages/sklearn/base.py:493: UserWarning: X does not have valid feature names, but LogisticRegression was fitted with feature names\n",
            "  warnings.warn(\n"
          ]
        }
      ]
    },
    {
      "cell_type": "code",
      "source": [
        "import numpy as np\n",
        "import pandas as pd\n",
        "\n",
        "import pickle\n",
        "from sklearn.linear_model import LogisticRegression\n",
        "from sklearn.model_selection import train_test_split\n",
        "from sklearn.metrics import accuracy_score\n",
        "\n",
        "# Simulated dataset (you would replace this with your actual dataset)\n",
        "# Features: tremor, slowness, rigidity, loss_of_smell, family_history, num_ancestors, male_ancestors, past_head_injury\n",
        "# Target: 1 (Parkinson's) or 0 (No Parkinson's)\n",
        "\n",
        "#data = np.array([\n",
        "#    [0, 1, 0, 0, 1, 1, 1, 0, 0],\n",
        " #   [1, 1, 1, 0, 1, 3, 0, 1, 1],\n",
        " #   [0, 0, 1, 0, 0, 0, 0, 0, 0],\n",
        " #   [0, 0, 0, 1, 0, 0, 0, 0, 0],\n",
        " #   [0, 0, 1, 0, 0, 0, 0, 1, 0],\n",
        "  #  [1, 1, 1, 1, 1, 2, 1, 1, 1],\n",
        "#])\n",
        "#data_path = '/content/datasets (1).csv'\n",
        "data = pd.read_csv('patients_dataset.csv')\n",
        "\n",
        "X = data[['tremor','slowness','rigidity','loss_of_smell','fam_history','num_ancestors','male_ancestors','past_severe_head_injury']]  # Features\n",
        "y = data['target']   # Target\n",
        "\n",
        "# Split data into training and test sets\n",
        "X_train, X_test, y_train, y_test = train_test_split(X, y, test_size=0.2, random_state=42)\n",
        "\n",
        "# Train a logistic regression model\n",
        "model = LogisticRegression()\n",
        "model.fit(X_train, y_train)\n",
        "\n",
        "# Save the trained model\n",
        "pickle.dump(model, open('parkinsons_model.pkl', 'wb'))\n",
        "\n",
        "# Load the saved model\n",
        "loaded_model = pickle.load(open('parkinsons_model.pkl', 'rb'))\n",
        "\n",
        "# Function to take user input and make a prediction\n",
        "def predict_parkinsons():\n",
        "    print(\"Enter the following details:\")\n",
        "    while True:\n",
        "        try:\n",
        "            tremor = int(input(\"Tremor (1 for Yes, 0 for No): \"))\n",
        "            if tremor in (0, 1):\n",
        "                break\n",
        "            else:\n",
        "                print(\"Invalid input. Please enter 1 for Yes or 0 for No.\")\n",
        "        except ValueError:\n",
        "            print(\"Invalid input. Please enter a number (1 or 0).\")\n",
        "    while True:\n",
        "        try:\n",
        "            slowness = int(input(\"Slowness (1 for Yes, 0 for No): \"))\n",
        "            if slowness in (0, 1):\n",
        "                break\n",
        "            else:\n",
        "                print(\"Invalid input. Please enter 1 for Yes or 0 for No.\")\n",
        "        except ValueError:\n",
        "            print(\"Invalid input. Please enter a number (1 or 0).\")\n",
        "    while True:\n",
        "        try:\n",
        "            rigidity = int(input(\"Rigidity (1 for Yes, 0 for No): \"))\n",
        "            if rigidity in (0, 1):\n",
        "                break\n",
        "            else:\n",
        "                print(\"Invalid input. Please enter 1 for Yes or 0 for No.\")\n",
        "        except ValueError:\n",
        "            print(\"Invalid input. Please enter a number (1 or 0).\")\n",
        "    while True:\n",
        "        try:\n",
        "            loss_of_smell = int(input(\"Loss of Smell (1 for Yes, 0 for No): \"))\n",
        "            if loss_of_smell in (0, 1):\n",
        "                break\n",
        "            else:\n",
        "                print(\"Invalid input. Please enter 1 for Yes or 0 for No.\")\n",
        "        except ValueError:\n",
        "            print(\"Invalid input. Please enter a number (1 or 0).\")\n",
        "    while True:\n",
        "        try:\n",
        "            family_history = int(input(\"Family History (1 for Yes, 0 for No): \"))\n",
        "            if family_history in (0, 1):\n",
        "                break\n",
        "            else:\n",
        "                print(\"Invalid input. Please enter 1 for Yes or 0 for No.\")\n",
        "        except ValueError:\n",
        "            print(\"Invalid input. Please enter a number (1 or 0).\")\n",
        "    while True:\n",
        "        try:\n",
        "            num_ancestors = int(input(\"Number of Ancestors with Parkinson's: \"))\n",
        "            break  # We don't restrict the range for this input\n",
        "        except ValueError:\n",
        "            print(\"Invalid input. Please enter a number.\")\n",
        "    while True:\n",
        "        try:\n",
        "            male_ancestors = int(input(\"Male Ancestors with Parkinson's (1 for Yes, 0 for No): \"))\n",
        "            if male_ancestors in (0, 1):\n",
        "                break\n",
        "            else:\n",
        "                print(\"Invalid input. Please enter 1 for Yes or 0 for No.\")\n",
        "        except ValueError:\n",
        "            print(\"Invalid input. Please enter a number (1 or 0).\")\n",
        "    while True:\n",
        "        try:\n",
        "            past_head_injury = int(input(\"Past Severe Head Injury (1 for Yes, 0 for No): \"))\n",
        "            if past_head_injury in (0, 1):\n",
        "                break\n",
        "            else:\n",
        "                print(\"Invalid input. Please enter 1 for Yes or 0 for No.\")\n",
        "        except ValueError:\n",
        "            print(\"Invalid input. Please enter a number (1 or 0).\")\n",
        "\n",
        "    # Combine inputs into a single array for prediction\n",
        "    input_features = np.array([[tremor, slowness, rigidity, loss_of_smell, family_history, num_ancestors, male_ancestors, past_head_injury]])\n",
        "\n",
        "    # Predict using the model\n",
        "    prediction = loaded_model.predict(input_features)\n",
        "    probability = loaded_model.predict_proba(input_features)\n",
        "\n",
        "    if prediction[0] == 1:\n",
        "        print(f\"The model predicts that the person *has Parkinson's disease* with a probability of {probability[0][1]:.2f}.\")\n",
        "    else:\n",
        "        print(f\"The model predicts that the person *does not have Parkinson's disease* with a probability of {probability[0][0]:.2f}.\")\n",
        "# Run the prediction function\n",
        "predict_parkinsons()\n"
      ],
      "metadata": {
        "colab": {
          "base_uri": "https://localhost:8080/"
        },
        "id": "PSTwoFRlOD84",
        "outputId": "9a87dab4-ec5d-4ad9-95dd-2ac65774a220"
      },
      "execution_count": 3,
      "outputs": [
        {
          "output_type": "stream",
          "name": "stdout",
          "text": [
            "Enter the following details:\n",
            "Tremor (1 for Yes, 0 for No): 1\n",
            "Slowness (1 for Yes, 0 for No): 1\n",
            "Rigidity (1 for Yes, 0 for No): 1\n",
            "Loss of Smell (1 for Yes, 0 for No): 1\n",
            "Family History (1 for Yes, 0 for No): 1\n",
            "Number of Ancestors with Parkinson's: 1\n",
            "Male Ancestors with Parkinson's (1 for Yes, 0 for No): 1\n",
            "Past Severe Head Injury (1 for Yes, 0 for No): 1\n",
            "The model predicts that the person *has Parkinson's disease* with a probability of 0.57.\n"
          ]
        },
        {
          "output_type": "stream",
          "name": "stderr",
          "text": [
            "/usr/local/lib/python3.10/dist-packages/sklearn/base.py:493: UserWarning: X does not have valid feature names, but LogisticRegression was fitted with feature names\n",
            "  warnings.warn(\n",
            "/usr/local/lib/python3.10/dist-packages/sklearn/base.py:493: UserWarning: X does not have valid feature names, but LogisticRegression was fitted with feature names\n",
            "  warnings.warn(\n"
          ]
        }
      ]
    },
    {
      "cell_type": "code",
      "source": [
        "import numpy as np\n",
        "import pandas as pd\n",
        "\n",
        "import pickle\n",
        "from sklearn.linear_model import LogisticRegression\n",
        "from sklearn.model_selection import train_test_split\n",
        "from sklearn.preprocessing import StandardScaler\n",
        "from sklearn.calibration import CalibratedClassifierCV\n",
        "from sklearn.utils import resample\n",
        "\n",
        "# Simulated dataset (expanded for better training)\n",
        "\n",
        "\n",
        "data = pd.read_csv('patients_dataset.csv')\n",
        "\n",
        "# Upsample minority class for better training (Optional)\n",
        "#data = pd.read_csv('data.csv')\n",
        "\n",
        "X = data[['tremor','slowness','rigidity','loss_of_smell','fam_history','num_ancestors','male_ancestors','past_severe_head_injury']]  # Features\n",
        "y = data['target']   # Target\n",
        "\n",
        "X, y = resample(X, y, replace=True, n_samples=50, random_state=42)\n",
        "\n",
        "# Normalize features\n",
        "scaler = StandardScaler()\n",
        "X = scaler.fit_transform(X)\n",
        "\n",
        "# Split data into training and test sets\n",
        "X_train, X_test, y_train, y_test = train_test_split(X, y, test_size=0.2, random_state=42)\n",
        "\n",
        "# Train a logistic regression model with calibrated probabilities\n",
        "base_model = LogisticRegression(solver='lbfgs', max_iter=1000, C=10.0)\n",
        "calibrated_model = CalibratedClassifierCV(base_model, cv='prefit')\n",
        "base_model.fit(X_train, y_train)\n",
        "calibrated_model.fit(X_train, y_train)\n",
        "\n",
        "# Save the trained model and scaler\n",
        "pickle.dump(calibrated_model, open('parkinsons_model.pkl', 'wb'))\n",
        "pickle.dump(scaler, open('scaler.pkl', 'wb'))\n"
      ],
      "metadata": {
        "id": "TQ5LeO6OdnTY",
        "colab": {
          "base_uri": "https://localhost:8080/"
        },
        "outputId": "f40ea061-057c-4f07-932b-76464a368e2f"
      },
      "execution_count": 5,
      "outputs": [
        {
          "output_type": "stream",
          "name": "stdout",
          "text": [
            "Enter the following details:\n",
            "Tremor (1 for Yes, 0 for No): 1\n",
            "Slowness (1 for Yes, 0 for No): 1\n",
            "Rigidity (1 for Yes, 0 for No): 1\n",
            "Loss of Smell (1 for Yes, 0 for No): 1\n",
            "Family History (1 for Yes, 0 for No): 1\n",
            "Number of Ancestors with Parkinson's: 1\n",
            "Male Ancestors with Parkinson's (1 for Yes, 0 for No): 1\n",
            "Past Severe Head Injury (1 for Yes, 0 for No): 1\n",
            "The model predicts that the person has Parkinson's disease with a probability of 0.90.\n"
          ]
        },
        {
          "output_type": "stream",
          "name": "stderr",
          "text": [
            "/usr/local/lib/python3.10/dist-packages/sklearn/base.py:493: UserWarning: X does not have valid feature names, but StandardScaler was fitted with feature names\n",
            "  warnings.warn(\n"
          ]
        }
      ]
    },
    {
      "cell_type": "code",
      "source": [
        "import numpy as np\n",
        "import pandas as pd\n",
        "\n",
        "import pickle\n",
        "from sklearn.linear_model import LogisticRegression\n",
        "from sklearn.model_selection import train_test_split\n",
        "from sklearn.metrics import accuracy_score\n",
        "\n",
        "import numpy as np\n",
        "import pandas as pd\n",
        "\n",
        "import pickle\n",
        "from sklearn.linear_model import LogisticRegression\n",
        "from sklearn.model_selection import train_test_split\n",
        "from sklearn.preprocessing import StandardScaler\n",
        "from sklearn.calibration import CalibratedClassifierCV\n",
        "from sklearn.utils import resample\n",
        "\n",
        "\n",
        "import numpy as np\n",
        "import pandas as pd\n",
        "\n",
        "import pickle\n",
        "from sklearn.linear_model import LogisticRegression\n",
        "from sklearn.model_selection import train_test_split\n",
        "from sklearn.metrics import accuracy_score\n",
        "\n",
        "\n",
        "import numpy as np\n",
        "import pandas as pd\n",
        "from sklearn.model_selection import train_test_split\n",
        "from sklearn.linear_model import LogisticRegression\n",
        "from sklearn.metrics import accuracy_score, classification_report\n",
        "\n",
        "# Load the saved model and scaler\n",
        "loaded_model = pickle.load(open('parkinsons_model.pkl', 'rb'))\n",
        "loaded_scaler = pickle.load(open('scaler.pkl', 'rb'))\n",
        "\n",
        "# Function to take user input and make a prediction\n",
        "def predict_parkinsons():\n",
        "    print(\"Enter the following details:\")\n",
        "    tremor = int(input(\"Tremor (1 for Yes, 0 for No): \"))\n",
        "    slowness = int(input(\"Slowness (1 for Yes, 0 for No): \"))\n",
        "    rigidity = int(input(\"Rigidity (1 for Yes, 0 for No): \"))\n",
        "    loss_of_smell = int(input(\"Loss of Smell (1 for Yes, 0 for No): \"))\n",
        "    family_history = int(input(\"Family History (1 for Yes, 0 for No): \"))\n",
        "    num_ancestors = int(input(\"Number of Ancestors with Parkinson's: \"))\n",
        "    male_ancestors = int(input(\"Male Ancestors with Parkinson's (1 for Yes, 0 for No): \"))\n",
        "    past_head_injury = int(input(\"Past Severe Head Injury (1 for Yes, 0 for No): \"))\n",
        "\n",
        "    # Combine inputs into a single array for prediction\n",
        "    input_features = np.array([[tremor, slowness, rigidity, loss_of_smell, family_history, num_ancestors, male_ancestors, past_head_injury]])\n",
        "\n",
        "    # Scale inputs using the saved scaler\n",
        "    scaled_input = loaded_scaler.transform(input_features)\n",
        "\n",
        "    # Predict using the model\n",
        "    prediction = loaded_model.predict(scaled_input)\n",
        "    probability = loaded_model.predict_proba(scaled_input)\n",
        "\n",
        "    if prediction[0] == 1:\n",
        "        print(f\"The model predicts that the person has Parkinson's disease with a probability of {probability[0][1]:.2f}.\")\n",
        "    else:\n",
        "        print(f\"The model predicts that the person does not have Parkinson's disease with a probability of {probability[0][0]:.2f}.\")\n",
        "\n",
        "# Run the prediction function\n",
        "predict_parkinsons()"
      ],
      "metadata": {
        "colab": {
          "base_uri": "https://localhost:8080/"
        },
        "id": "rtYwSd_4Lrai",
        "outputId": "460cc93c-e36d-4ddf-c87f-b9c052eb4c72"
      },
      "execution_count": 1,
      "outputs": [
        {
          "output_type": "stream",
          "name": "stdout",
          "text": [
            "Enter the following details:\n",
            "Tremor (1 for Yes, 0 for No): 1\n",
            "Slowness (1 for Yes, 0 for No): 1\n",
            "Rigidity (1 for Yes, 0 for No): 1\n",
            "Loss of Smell (1 for Yes, 0 for No): 1\n",
            "Family History (1 for Yes, 0 for No): 1\n",
            "Number of Ancestors with Parkinson's: 1\n",
            "Male Ancestors with Parkinson's (1 for Yes, 0 for No): 1\n",
            "Past Severe Head Injury (1 for Yes, 0 for No): 1\n",
            "The model predicts that the person has Parkinson's disease with a probability of 0.90.\n"
          ]
        },
        {
          "output_type": "stream",
          "name": "stderr",
          "text": [
            "/usr/local/lib/python3.10/dist-packages/sklearn/base.py:493: UserWarning: X does not have valid feature names, but StandardScaler was fitted with feature names\n",
            "  warnings.warn(\n"
          ]
        }
      ]
    },
    {
      "cell_type": "code",
      "source": [
        "!pip freeze > requirements.txt"
      ],
      "metadata": {
        "id": "qnuECcNIMLyM"
      },
      "execution_count": 3,
      "outputs": []
    },
    {
      "cell_type": "code",
      "source": [
        "!python --version"
      ],
      "metadata": {
        "colab": {
          "base_uri": "https://localhost:8080/"
        },
        "id": "m-h35Nk4Mgyr",
        "outputId": "295bc178-5038-46b0-a682-f455a4310b49"
      },
      "execution_count": 4,
      "outputs": [
        {
          "output_type": "stream",
          "name": "stdout",
          "text": [
            "Python 3.10.12\n"
          ]
        }
      ]
    },
    {
      "cell_type": "code",
      "source": [],
      "metadata": {
        "id": "inZgqAmyMkpD"
      },
      "execution_count": null,
      "outputs": []
    }
  ]
}